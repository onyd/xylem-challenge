{
 "cells": [
  {
   "cell_type": "code",
   "execution_count": null,
   "metadata": {},
   "outputs": [],
   "source": [
    "import gpw_queries as gpw"
   ]
  },
  {
   "cell_type": "code",
   "execution_count": null,
   "metadata": {},
   "outputs": [],
   "source": [
    "data = gpw.get_sites_by_country(\"india\")"
   ]
  },
  {
   "cell_type": "code",
   "execution_count": null,
   "metadata": {},
   "outputs": [],
   "source": [
    "data.keys()"
   ]
  },
  {
   "cell_type": "code",
   "execution_count": null,
   "metadata": {},
   "outputs": [],
   "source": [
    "data.head()"
   ]
  },
  {
   "cell_type": "code",
   "execution_count": null,
   "metadata": {},
   "outputs": [],
   "source": [
    "data['Distance to Waterway (m)']"
   ]
  },
  {
   "cell_type": "code",
   "execution_count": null,
   "metadata": {},
   "outputs": [],
   "source": [
    "filtered_by_water_proximity = data[data['Distance to Waterway (m)'].astype('float32') <= 500.0]\n",
    "filtered_by_watertype = filtered_by_water_proximity[(filtered_by_water_proximity['Nearest Water Type'].isin(['water', 'stream', 'river', 'coastline', 'drain', 'canal']))]\n",
    "filtered = filtered_by_watertype[filtered_by_watertype['Distance to Waterway (m)'].astype('float32') != -1]\n",
    "print(len(filtered))"
   ]
  },
  {
   "cell_type": "code",
   "execution_count": null,
   "metadata": {},
   "outputs": [],
   "source": [
    "filtered.sort_values(['risk', 'Distance to Waterway (m)','area (km^2)'], ascending=[False, True, True])\n"
   ]
  }
 ],
 "metadata": {
  "kernelspec": {
   "display_name": "Python 3",
   "language": "python",
   "name": "python3"
  },
  "language_info": {
   "codemirror_mode": {
    "name": "ipython",
    "version": 3
   },
   "file_extension": ".py",
   "mimetype": "text/x-python",
   "name": "python",
   "nbconvert_exporter": "python",
   "pygments_lexer": "ipython3",
   "version": "3.11.1"
  },
  "orig_nbformat": 4,
  "vscode": {
   "interpreter": {
    "hash": "836b8a7adc9c74c6d0403e8f5dae5d3092a2647e8adb261328f0d15f23543225"
   }
  }
 },
 "nbformat": 4,
 "nbformat_minor": 2
}
