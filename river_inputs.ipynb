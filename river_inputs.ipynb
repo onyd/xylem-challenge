{
 "cells": [
  {
   "attachments": {},
   "cell_type": "markdown",
   "metadata": {},
   "source": [
    "Use the model from https://resourcewatch.org/data/explore/Wat063-Plastic-Input-in-Rivers?section=Discover&selectedCollection=&zoom=11.220883753497942&lat=8.666165796812479&lng=-60.882446428277014&pitch=0&bearing=0&basemap=dark&labels=light&layers=%255B%257B%2522dataset%2522%253A%252238e1bdc7-a843-40b8-ac86-2e47ccd896e4%2522%252C%2522opacity%2522%253A1%252C%2522layer%2522%253A%25228ad07c40-dbb6-4703-8146-a36b9f441dd2%2522%257D%255D&aoi=&page=1&sort=most-viewed&sortDirection=-1 to predict plastic inputs mass/day from rivers."
   ]
  },
  {
   "attachments": {},
   "cell_type": "markdown",
   "metadata": {},
   "source": [
    "# Load data"
   ]
  },
  {
   "cell_type": "code",
   "execution_count": 1,
   "metadata": {},
   "outputs": [],
   "source": [
    "import geopandas as gpd"
   ]
  },
  {
   "cell_type": "code",
   "execution_count": 2,
   "metadata": {},
   "outputs": [],
   "source": [
    "# Model regression parameters\n",
    "k = 1.85e-3\n",
    "a = 1.52"
   ]
  },
  {
   "cell_type": "code",
   "execution_count": 3,
   "metadata": {},
   "outputs": [
    {
     "data": {
      "text/html": [
       "<div>\n",
       "<style scoped>\n",
       "    .dataframe tbody tr th:only-of-type {\n",
       "        vertical-align: middle;\n",
       "    }\n",
       "\n",
       "    .dataframe tbody tr th {\n",
       "        vertical-align: top;\n",
       "    }\n",
       "\n",
       "    .dataframe thead th {\n",
       "        text-align: right;\n",
       "    }\n",
       "</style>\n",
       "<table border=\"1\" class=\"dataframe\">\n",
       "  <thead>\n",
       "    <tr style=\"text-align: right;\">\n",
       "      <th></th>\n",
       "      <th>i_mid</th>\n",
       "      <th>i_low</th>\n",
       "      <th>i_high</th>\n",
       "      <th>i_mid_jan</th>\n",
       "      <th>i_low_jan</th>\n",
       "      <th>i_high_jan</th>\n",
       "      <th>i_mid_feb</th>\n",
       "      <th>i_low_feb</th>\n",
       "      <th>i_high_feb</th>\n",
       "      <th>i_mid_mar</th>\n",
       "      <th>...</th>\n",
       "      <th>runoff_jun</th>\n",
       "      <th>runoff_jul</th>\n",
       "      <th>runoff_aug</th>\n",
       "      <th>runoff_sep</th>\n",
       "      <th>runoff_oct</th>\n",
       "      <th>runoff_nov</th>\n",
       "      <th>runoff_dec</th>\n",
       "      <th>mpw</th>\n",
       "      <th>area</th>\n",
       "      <th>geometry</th>\n",
       "    </tr>\n",
       "  </thead>\n",
       "  <tbody>\n",
       "    <tr>\n",
       "      <th>0</th>\n",
       "      <td>0.000000</td>\n",
       "      <td>0.000000</td>\n",
       "      <td>0.000000</td>\n",
       "      <td>0.000000</td>\n",
       "      <td>0.000000</td>\n",
       "      <td>0.000000</td>\n",
       "      <td>0.000000</td>\n",
       "      <td>0.000000</td>\n",
       "      <td>0.000000</td>\n",
       "      <td>0.000000</td>\n",
       "      <td>...</td>\n",
       "      <td>0.000000</td>\n",
       "      <td>0.000000</td>\n",
       "      <td>0.000000</td>\n",
       "      <td>0.000000</td>\n",
       "      <td>0.000000</td>\n",
       "      <td>0.000000</td>\n",
       "      <td>0.000000</td>\n",
       "      <td>21753.3</td>\n",
       "      <td>22500000.0</td>\n",
       "      <td>POINT (9.81250 37.32917)</td>\n",
       "    </tr>\n",
       "    <tr>\n",
       "      <th>1</th>\n",
       "      <td>0.117503</td>\n",
       "      <td>0.046447</td>\n",
       "      <td>0.431570</td>\n",
       "      <td>0.008847</td>\n",
       "      <td>0.003387</td>\n",
       "      <td>0.033584</td>\n",
       "      <td>0.025464</td>\n",
       "      <td>0.010425</td>\n",
       "      <td>0.089840</td>\n",
       "      <td>0.022978</td>\n",
       "      <td>...</td>\n",
       "      <td>0.275476</td>\n",
       "      <td>0.172272</td>\n",
       "      <td>0.075899</td>\n",
       "      <td>0.067729</td>\n",
       "      <td>0.176044</td>\n",
       "      <td>0.588417</td>\n",
       "      <td>0.466081</td>\n",
       "      <td>506114.0</td>\n",
       "      <td>95100000.0</td>\n",
       "      <td>POINT (9.38750 37.25417)</td>\n",
       "    </tr>\n",
       "    <tr>\n",
       "      <th>2</th>\n",
       "      <td>0.004653</td>\n",
       "      <td>0.001518</td>\n",
       "      <td>0.021067</td>\n",
       "      <td>0.000364</td>\n",
       "      <td>0.000116</td>\n",
       "      <td>0.001692</td>\n",
       "      <td>0.000750</td>\n",
       "      <td>0.000250</td>\n",
       "      <td>0.003305</td>\n",
       "      <td>0.000905</td>\n",
       "      <td>...</td>\n",
       "      <td>0.321421</td>\n",
       "      <td>0.236187</td>\n",
       "      <td>0.135462</td>\n",
       "      <td>0.101813</td>\n",
       "      <td>0.223936</td>\n",
       "      <td>0.821796</td>\n",
       "      <td>0.500808</td>\n",
       "      <td>56294.6</td>\n",
       "      <td>33500000.0</td>\n",
       "      <td>POINT (9.80417 37.23750)</td>\n",
       "    </tr>\n",
       "    <tr>\n",
       "      <th>3</th>\n",
       "      <td>0.163098</td>\n",
       "      <td>0.065719</td>\n",
       "      <td>0.586740</td>\n",
       "      <td>0.019418</td>\n",
       "      <td>0.007780</td>\n",
       "      <td>0.070142</td>\n",
       "      <td>0.041209</td>\n",
       "      <td>0.017347</td>\n",
       "      <td>0.141035</td>\n",
       "      <td>0.030320</td>\n",
       "      <td>...</td>\n",
       "      <td>0.422857</td>\n",
       "      <td>0.275328</td>\n",
       "      <td>0.182635</td>\n",
       "      <td>0.184765</td>\n",
       "      <td>0.335541</td>\n",
       "      <td>1.101117</td>\n",
       "      <td>0.927117</td>\n",
       "      <td>349409.0</td>\n",
       "      <td>99200000.0</td>\n",
       "      <td>POINT (9.22917 37.22083)</td>\n",
       "    </tr>\n",
       "    <tr>\n",
       "      <th>4</th>\n",
       "      <td>0.038200</td>\n",
       "      <td>0.014144</td>\n",
       "      <td>0.150693</td>\n",
       "      <td>0.003528</td>\n",
       "      <td>0.001281</td>\n",
       "      <td>0.014193</td>\n",
       "      <td>0.008848</td>\n",
       "      <td>0.003407</td>\n",
       "      <td>0.033372</td>\n",
       "      <td>0.007342</td>\n",
       "      <td>...</td>\n",
       "      <td>0.315671</td>\n",
       "      <td>0.200378</td>\n",
       "      <td>0.105010</td>\n",
       "      <td>0.099647</td>\n",
       "      <td>0.219543</td>\n",
       "      <td>0.728243</td>\n",
       "      <td>0.591818</td>\n",
       "      <td>199000.0</td>\n",
       "      <td>39700000.0</td>\n",
       "      <td>POINT (9.25417 37.22083)</td>\n",
       "    </tr>\n",
       "  </tbody>\n",
       "</table>\n",
       "<p>5 rows × 54 columns</p>\n",
       "</div>"
      ],
      "text/plain": [
       "      i_mid     i_low    i_high  i_mid_jan  i_low_jan  i_high_jan  i_mid_feb  \\\n",
       "0  0.000000  0.000000  0.000000   0.000000   0.000000    0.000000   0.000000   \n",
       "1  0.117503  0.046447  0.431570   0.008847   0.003387    0.033584   0.025464   \n",
       "2  0.004653  0.001518  0.021067   0.000364   0.000116    0.001692   0.000750   \n",
       "3  0.163098  0.065719  0.586740   0.019418   0.007780    0.070142   0.041209   \n",
       "4  0.038200  0.014144  0.150693   0.003528   0.001281    0.014193   0.008848   \n",
       "\n",
       "   i_low_feb  i_high_feb  i_mid_mar  ...  runoff_jun  runoff_jul  runoff_aug  \\\n",
       "0   0.000000    0.000000   0.000000  ...    0.000000    0.000000    0.000000   \n",
       "1   0.010425    0.089840   0.022978  ...    0.275476    0.172272    0.075899   \n",
       "2   0.000250    0.003305   0.000905  ...    0.321421    0.236187    0.135462   \n",
       "3   0.017347    0.141035   0.030320  ...    0.422857    0.275328    0.182635   \n",
       "4   0.003407    0.033372   0.007342  ...    0.315671    0.200378    0.105010   \n",
       "\n",
       "   runoff_sep  runoff_oct  runoff_nov  runoff_dec       mpw        area  \\\n",
       "0    0.000000    0.000000    0.000000    0.000000   21753.3  22500000.0   \n",
       "1    0.067729    0.176044    0.588417    0.466081  506114.0  95100000.0   \n",
       "2    0.101813    0.223936    0.821796    0.500808   56294.6  33500000.0   \n",
       "3    0.184765    0.335541    1.101117    0.927117  349409.0  99200000.0   \n",
       "4    0.099647    0.219543    0.728243    0.591818  199000.0  39700000.0   \n",
       "\n",
       "                   geometry  \n",
       "0  POINT (9.81250 37.32917)  \n",
       "1  POINT (9.38750 37.25417)  \n",
       "2  POINT (9.80417 37.23750)  \n",
       "3  POINT (9.22917 37.22083)  \n",
       "4  POINT (9.25417 37.22083)  \n",
       "\n",
       "[5 rows x 54 columns]"
      ]
     },
     "execution_count": 3,
     "metadata": {},
     "output_type": "execute_result"
    }
   ],
   "source": [
    "df = gpd.read_file(\"river_inputs/PlasticRiverInputs.shp\")\n",
    "df.head()"
   ]
  },
  {
   "cell_type": "code",
   "execution_count": 4,
   "metadata": {},
   "outputs": [
    {
     "data": {
      "text/plain": [
       "<AxesSubplot:>"
      ]
     },
     "execution_count": 4,
     "metadata": {},
     "output_type": "execute_result"
    },
    {
     "data": {
      "image/png": "[encoded data removed]",
      "text/plain": [
       "<Figure size 432x288 with 1 Axes>"
      ]
     },
     "metadata": {
      "needs_background": "light"
     },
     "output_type": "display_data"
    }
   ],
   "source": [
    "df.plot()"
   ]
  },
  {
   "cell_type": "code",
   "execution_count": 5,
   "metadata": {},
   "outputs": [
    {
     "data": {
      "text/plain": [
       "Index(['i_mid', 'i_low', 'i_high', 'i_mid_jan', 'i_low_jan', 'i_high_jan',\n",
       "       'i_mid_feb', 'i_low_feb', 'i_high_feb', 'i_mid_mar', 'i_low_mar',\n",
       "       'i_high_mar', 'i_mid_apr', 'i_low_apr', 'i_high_apr', 'i_mid_may',\n",
       "       'i_low_may', 'i_high_may', 'i_mid_jun', 'i_low_jun', 'i_high_jun',\n",
       "       'i_mid_jul', 'i_low_jul', 'i_high_jul', 'i_mid_aug', 'i_low_aug',\n",
       "       'i_high_aug', 'i_mid_sep', 'i_low_sep', 'i_high_sep', 'i_mid_oct',\n",
       "       'i_low_oct', 'i_high_oct', 'i_mid_nov', 'i_low_nov', 'i_high_nov',\n",
       "       'i_mid_dec', 'i_low_dec', 'i_high_dec', 'runoff_jan', 'runoff_feb',\n",
       "       'runoff_mar', 'runoff_apr', 'runoff_may', 'runoff_jun', 'runoff_jul',\n",
       "       'runoff_aug', 'runoff_sep', 'runoff_oct', 'runoff_nov', 'runoff_dec',\n",
       "       'mpw', 'area', 'geometry'],\n",
       "      dtype='object')"
      ]
     },
     "execution_count": 5,
     "metadata": {},
     "output_type": "execute_result"
    }
   ],
   "source": [
    "df.keys()"
   ]
  },
  {
   "attachments": {},
   "cell_type": "markdown",
   "metadata": {},
   "source": [
    "# Compute model"
   ]
  },
  {
   "attachments": {},
   "cell_type": "markdown",
   "metadata": {},
   "source": [
    "Here we compute the plastic mass spilling from points using the model."
   ]
  },
  {
   "cell_type": "code",
   "execution_count": 6,
   "metadata": {},
   "outputs": [],
   "source": [
    "def compute_plastic_mass(mpw, R):\n",
    "    return (k * mpw * R) ** a"
   ]
  },
  {
   "cell_type": "code",
   "execution_count": 7,
   "metadata": {},
   "outputs": [],
   "source": [
    "MOUNTHS = [\"jan\", \"feb\", \"mar\", \"apr\", \"may\", \"jun\", \"jul\", \"aug\", \"sep\", \"oct\", \"nov\", \"dec\"]"
   ]
  },
  {
   "cell_type": "code",
   "execution_count": 8,
   "metadata": {},
   "outputs": [],
   "source": [
    "def compute_model(df):\n",
    "    model = gpd.GeoDataFrame()\n",
    "    for mounth in MOUNTHS:\n",
    "        model[f\"m_out_{mounth}\"] = compute_plastic_mass(df[\"mpw\"], df[f\"runoff_{mounth}\"])\n",
    "    model[\"m_out\"] = compute_plastic_mass(df[\"mpw\"], df[f\"runoff_{mounth}\"])\n",
    "    return model"
   ]
  },
  {
   "cell_type": "code",
   "execution_count": 9,
   "metadata": {},
   "outputs": [],
   "source": [
    "model = compute_model(df)\n",
    "model[[\"area\", \"mpw\", \"geometry\"]] = df[[\"area\", \"mpw\", \"geometry\"]]\n",
    "model[\"m_out_max\"] = model.loc[:,[f\"m_out_{mounth}\" for mounth in MOUNTHS]].max(axis=1)"
   ]
  },
  {
   "cell_type": "code",
   "execution_count": 10,
   "metadata": {},
   "outputs": [],
   "source": [
    "model = model[model[\"m_out_max\"].astype('float32') != 0.0]"
   ]
  },
  {
   "cell_type": "code",
   "execution_count": 11,
   "metadata": {},
   "outputs": [],
   "source": [
    "model = model.sort_values([\"m_out_max\"], ascending=False)"
   ]
  },
  {
   "attachments": {},
   "cell_type": "markdown",
   "metadata": {},
   "source": [
    "# Results\n",
    "MPW stands for Mismanaged Plastic Waste \n",
    "\n",
    "m_out stands for plastic mass release\n",
    "\n",
    "\n",
    "\n",
    "The units are: \n",
    "\n",
    "MPW -> kg/day \n",
    "\n",
    "m_out -> kg/day\n",
    "\n",
    "area -> m²"
   ]
  },
  {
   "cell_type": "code",
   "execution_count": 39,
   "metadata": {},
   "outputs": [
    {
     "name": "stdout",
     "output_type": "stream",
     "text": [
      "35821\n"
     ]
    },
    {
     "data": {
      "text/html": [
       "<div>\n",
       "<style scoped>\n",
       "    .dataframe tbody tr th:only-of-type {\n",
       "        vertical-align: middle;\n",
       "    }\n",
       "\n",
       "    .dataframe tbody tr th {\n",
       "        vertical-align: top;\n",
       "    }\n",
       "\n",
       "    .dataframe thead th {\n",
       "        text-align: right;\n",
       "    }\n",
       "</style>\n",
       "<table border=\"1\" class=\"dataframe\">\n",
       "  <thead>\n",
       "    <tr style=\"text-align: right;\">\n",
       "      <th></th>\n",
       "      <th>m_out_jan</th>\n",
       "      <th>m_out_feb</th>\n",
       "      <th>m_out_mar</th>\n",
       "      <th>m_out_apr</th>\n",
       "      <th>m_out_may</th>\n",
       "      <th>m_out_jun</th>\n",
       "      <th>m_out_jul</th>\n",
       "      <th>m_out_aug</th>\n",
       "      <th>m_out_sep</th>\n",
       "      <th>m_out_oct</th>\n",
       "      <th>m_out_nov</th>\n",
       "      <th>m_out_dec</th>\n",
       "      <th>m_out</th>\n",
       "      <th>geometry</th>\n",
       "      <th>area</th>\n",
       "      <th>mpw</th>\n",
       "      <th>m_out_max</th>\n",
       "    </tr>\n",
       "  </thead>\n",
       "  <tbody>\n",
       "    <tr>\n",
       "      <th>7310</th>\n",
       "      <td>2.861151e+09</td>\n",
       "      <td>3.989828e+09</td>\n",
       "      <td>1.198069e+10</td>\n",
       "      <td>2.648229e+10</td>\n",
       "      <td>4.942422e+10</td>\n",
       "      <td>7.283720e+10</td>\n",
       "      <td>8.798777e+10</td>\n",
       "      <td>5.552361e+10</td>\n",
       "      <td>4.466158e+10</td>\n",
       "      <td>1.764323e+10</td>\n",
       "      <td>1.227249e+10</td>\n",
       "      <td>5.440373e+09</td>\n",
       "      <td>5.440373e+09</td>\n",
       "      <td>POINT (120.23750 31.93750)</td>\n",
       "      <td>1.910530e+12</td>\n",
       "      <td>5.685870e+09</td>\n",
       "      <td>8.798777e+10</td>\n",
       "    </tr>\n",
       "    <tr>\n",
       "      <th>7804</th>\n",
       "      <td>5.884826e+07</td>\n",
       "      <td>6.244939e+07</td>\n",
       "      <td>1.583727e+08</td>\n",
       "      <td>7.601362e+08</td>\n",
       "      <td>3.236602e+09</td>\n",
       "      <td>1.028385e+10</td>\n",
       "      <td>3.240771e+10</td>\n",
       "      <td>5.162278e+10</td>\n",
       "      <td>2.932790e+10</td>\n",
       "      <td>6.554515e+09</td>\n",
       "      <td>5.594960e+08</td>\n",
       "      <td>1.362908e+08</td>\n",
       "      <td>1.362908e+08</td>\n",
       "      <td>POINT (90.62917 23.22083)</td>\n",
       "      <td>1.574326e+12</td>\n",
       "      <td>1.486410e+09</td>\n",
       "      <td>5.162278e+10</td>\n",
       "    </tr>\n",
       "    <tr>\n",
       "      <th>8001</th>\n",
       "      <td>2.141598e+08</td>\n",
       "      <td>1.665886e+08</td>\n",
       "      <td>4.777611e+08</td>\n",
       "      <td>2.498976e+09</td>\n",
       "      <td>1.125639e+10</td>\n",
       "      <td>3.415285e+10</td>\n",
       "      <td>1.841135e+10</td>\n",
       "      <td>1.156611e+10</td>\n",
       "      <td>5.344680e+09</td>\n",
       "      <td>1.385208e+09</td>\n",
       "      <td>1.109169e+09</td>\n",
       "      <td>5.130585e+08</td>\n",
       "      <td>5.130585e+08</td>\n",
       "      <td>POINT (113.25417 22.39583)</td>\n",
       "      <td>3.887689e+11</td>\n",
       "      <td>1.100360e+09</td>\n",
       "      <td>3.415285e+10</td>\n",
       "    </tr>\n",
       "    <tr>\n",
       "      <th>10949</th>\n",
       "      <td>2.052326e+09</td>\n",
       "      <td>1.271270e+09</td>\n",
       "      <td>1.472676e+09</td>\n",
       "      <td>8.299380e+09</td>\n",
       "      <td>4.091441e+09</td>\n",
       "      <td>5.625883e+09</td>\n",
       "      <td>6.162356e+09</td>\n",
       "      <td>4.109529e+09</td>\n",
       "      <td>4.001408e+09</td>\n",
       "      <td>1.736787e+10</td>\n",
       "      <td>2.050048e+10</td>\n",
       "      <td>8.154007e+09</td>\n",
       "      <td>8.154007e+09</td>\n",
       "      <td>POINT (79.87083 6.97083)</td>\n",
       "      <td>2.300400e+09</td>\n",
       "      <td>2.553780e+08</td>\n",
       "      <td>2.050048e+10</td>\n",
       "    </tr>\n",
       "    <tr>\n",
       "      <th>2051</th>\n",
       "      <td>2.233180e+07</td>\n",
       "      <td>1.546193e+07</td>\n",
       "      <td>2.471526e+08</td>\n",
       "      <td>1.040669e+09</td>\n",
       "      <td>1.709158e+09</td>\n",
       "      <td>3.417093e+09</td>\n",
       "      <td>4.517124e+09</td>\n",
       "      <td>9.317464e+09</td>\n",
       "      <td>1.581911e+10</td>\n",
       "      <td>8.873652e+09</td>\n",
       "      <td>2.302188e+09</td>\n",
       "      <td>1.800524e+08</td>\n",
       "      <td>1.800524e+08</td>\n",
       "      <td>POINT (8.25417 4.82083)</td>\n",
       "      <td>5.283030e+10</td>\n",
       "      <td>3.411000e+08</td>\n",
       "      <td>1.581911e+10</td>\n",
       "    </tr>\n",
       "  </tbody>\n",
       "</table>\n",
       "</div>"
      ],
      "text/plain": [
       "          m_out_jan     m_out_feb     m_out_mar     m_out_apr     m_out_may  \\\n",
       "7310   2.861151e+09  3.989828e+09  1.198069e+10  2.648229e+10  4.942422e+10   \n",
       "7804   5.884826e+07  6.244939e+07  1.583727e+08  7.601362e+08  3.236602e+09   \n",
       "8001   2.141598e+08  1.665886e+08  4.777611e+08  2.498976e+09  1.125639e+10   \n",
       "10949  2.052326e+09  1.271270e+09  1.472676e+09  8.299380e+09  4.091441e+09   \n",
       "2051   2.233180e+07  1.546193e+07  2.471526e+08  1.040669e+09  1.709158e+09   \n",
       "\n",
       "          m_out_jun     m_out_jul     m_out_aug     m_out_sep     m_out_oct  \\\n",
       "7310   7.283720e+10  8.798777e+10  5.552361e+10  4.466158e+10  1.764323e+10   \n",
       "7804   1.028385e+10  3.240771e+10  5.162278e+10  2.932790e+10  6.554515e+09   \n",
       "8001   3.415285e+10  1.841135e+10  1.156611e+10  5.344680e+09  1.385208e+09   \n",
       "10949  5.625883e+09  6.162356e+09  4.109529e+09  4.001408e+09  1.736787e+10   \n",
       "2051   3.417093e+09  4.517124e+09  9.317464e+09  1.581911e+10  8.873652e+09   \n",
       "\n",
       "          m_out_nov     m_out_dec         m_out                    geometry  \\\n",
       "7310   1.227249e+10  5.440373e+09  5.440373e+09  POINT (120.23750 31.93750)   \n",
       "7804   5.594960e+08  1.362908e+08  1.362908e+08   POINT (90.62917 23.22083)   \n",
       "8001   1.109169e+09  5.130585e+08  5.130585e+08  POINT (113.25417 22.39583)   \n",
       "10949  2.050048e+10  8.154007e+09  8.154007e+09    POINT (79.87083 6.97083)   \n",
       "2051   2.302188e+09  1.800524e+08  1.800524e+08     POINT (8.25417 4.82083)   \n",
       "\n",
       "               area           mpw     m_out_max  \n",
       "7310   1.910530e+12  5.685870e+09  8.798777e+10  \n",
       "7804   1.574326e+12  1.486410e+09  5.162278e+10  \n",
       "8001   3.887689e+11  1.100360e+09  3.415285e+10  \n",
       "10949  2.300400e+09  2.553780e+08  2.050048e+10  \n",
       "2051   5.283030e+10  3.411000e+08  1.581911e+10  "
      ]
     },
     "execution_count": 39,
     "metadata": {},
     "output_type": "execute_result"
    }
   ],
   "source": [
    "print(len(model))\n",
    "model.head()"
   ]
  },
  {
   "cell_type": "code",
   "execution_count": null,
   "metadata": {},
   "outputs": [],
   "source": []
  }
 ],
 "metadata": {
  "kernelspec": {
   "display_name": "Python 3",
   "language": "python",
   "name": "python3"
  },
  "language_info": {
   "codemirror_mode": {
    "name": "ipython",
    "version": 3
   },
   "file_extension": ".py",
   "mimetype": "text/x-python",
   "name": "python",
   "nbconvert_exporter": "python",
   "pygments_lexer": "ipython3",
   "version": "3.9.10"
  },
  "orig_nbformat": 4
 },
 "nbformat": 4,
 "nbformat_minor": 2
}
